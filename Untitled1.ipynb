{
 "cells": [
  {
   "cell_type": "code",
   "execution_count": 1,
   "id": "ae896595-16d3-423f-bcb7-dfdde8c2565f",
   "metadata": {},
   "outputs": [
    {
     "name": "stdout",
     "output_type": "stream",
     "text": [
      "Rizky Muhamad Wicaksana - 41155050210010\n"
     ]
    }
   ],
   "source": [
    "print(\"Rizky Muhamad Wicaksana - 41155050210010\")"
   ]
  },
  {
   "cell_type": "code",
   "execution_count": 2,
   "id": "751a1a46-8530-4064-973b-35f312661e25",
   "metadata": {},
   "outputs": [
    {
     "name": "stdout",
     "output_type": "stream",
     "text": [
      "Collecting NumPy\n",
      "  Downloading numpy-2.1.2-cp312-cp312-win_amd64.whl.metadata (59 kB)\n",
      "Downloading numpy-2.1.2-cp312-cp312-win_amd64.whl (12.6 MB)\n",
      "   ---------------------------------------- 0.0/12.6 MB ? eta -:--:--\n",
      "    --------------------------------------- 0.3/12.6 MB ? eta -:--:--\n",
      "   -- ------------------------------------- 0.8/12.6 MB 2.8 MB/s eta 0:00:05\n",
      "   ---- ----------------------------------- 1.3/12.6 MB 2.5 MB/s eta 0:00:05\n",
      "   ----- ---------------------------------- 1.8/12.6 MB 2.6 MB/s eta 0:00:05\n",
      "   -------- ------------------------------- 2.6/12.6 MB 2.7 MB/s eta 0:00:04\n",
      "   ---------- ----------------------------- 3.4/12.6 MB 2.8 MB/s eta 0:00:04\n",
      "   ------------- -------------------------- 4.2/12.6 MB 2.9 MB/s eta 0:00:03\n",
      "   --------------- ------------------------ 4.7/12.6 MB 3.0 MB/s eta 0:00:03\n",
      "   ----------------- ---------------------- 5.5/12.6 MB 3.0 MB/s eta 0:00:03\n",
      "   -------------------- ------------------- 6.3/12.6 MB 3.1 MB/s eta 0:00:03\n",
      "   ---------------------- ----------------- 7.1/12.6 MB 3.1 MB/s eta 0:00:02\n",
      "   ------------------------ --------------- 7.6/12.6 MB 3.1 MB/s eta 0:00:02\n",
      "   -------------------------- ------------- 8.4/12.6 MB 3.1 MB/s eta 0:00:02\n",
      "   ----------------------------- ---------- 9.2/12.6 MB 3.2 MB/s eta 0:00:02\n",
      "   ------------------------------- -------- 10.0/12.6 MB 3.2 MB/s eta 0:00:01\n",
      "   ---------------------------------- ----- 10.7/12.6 MB 3.2 MB/s eta 0:00:01\n",
      "   ------------------------------------ --- 11.5/12.6 MB 3.2 MB/s eta 0:00:01\n",
      "   ---------------------------------------  12.3/12.6 MB 3.3 MB/s eta 0:00:01\n",
      "   ---------------------------------------- 12.6/12.6 MB 3.2 MB/s eta 0:00:00\n",
      "Installing collected packages: NumPy\n",
      "Successfully installed NumPy-2.1.2\n",
      "Note: you may need to restart the kernel to use updated packages.\n"
     ]
    }
   ],
   "source": [
    "pip install NumPy"
   ]
  },
  {
   "cell_type": "code",
   "execution_count": 3,
   "id": "b07f8668-1665-4852-89fd-8e3a1f4823df",
   "metadata": {},
   "outputs": [
    {
     "name": "stdout",
     "output_type": "stream",
     "text": [
      "Collecting SciPy\n",
      "  Downloading scipy-1.14.1-cp312-cp312-win_amd64.whl.metadata (60 kB)\n",
      "Requirement already satisfied: numpy<2.3,>=1.23.5 in c:\\users\\w10\\appdata\\local\\programs\\python\\python312\\lib\\site-packages (from SciPy) (2.1.2)\n",
      "Downloading scipy-1.14.1-cp312-cp312-win_amd64.whl (44.5 MB)\n",
      "   ---------------------------------------- 0.0/44.5 MB ? eta -:--:--\n",
      "   ---------------------------------------- 0.5/44.5 MB 3.4 MB/s eta 0:00:14\n",
      "   - -------------------------------------- 1.3/44.5 MB 3.5 MB/s eta 0:00:13\n",
      "   - -------------------------------------- 2.1/44.5 MB 3.6 MB/s eta 0:00:12\n",
      "   -- ------------------------------------- 2.9/44.5 MB 3.7 MB/s eta 0:00:12\n",
      "   --- ------------------------------------ 3.7/44.5 MB 3.8 MB/s eta 0:00:11\n",
      "   ---- ----------------------------------- 4.7/44.5 MB 4.0 MB/s eta 0:00:11\n",
      "   ---- ----------------------------------- 5.5/44.5 MB 3.9 MB/s eta 0:00:10\n",
      "   ----- ---------------------------------- 6.6/44.5 MB 3.9 MB/s eta 0:00:10\n",
      "   ------ --------------------------------- 7.3/44.5 MB 3.9 MB/s eta 0:00:10\n",
      "   ------- -------------------------------- 8.1/44.5 MB 4.0 MB/s eta 0:00:10\n",
      "   -------- ------------------------------- 8.9/44.5 MB 4.0 MB/s eta 0:00:09\n",
      "   -------- ------------------------------- 9.7/44.5 MB 4.0 MB/s eta 0:00:09\n",
      "   --------- ------------------------------ 10.5/44.5 MB 4.0 MB/s eta 0:00:09\n",
      "   ---------- ----------------------------- 11.5/44.5 MB 4.0 MB/s eta 0:00:09\n",
      "   ----------- ---------------------------- 12.3/44.5 MB 4.0 MB/s eta 0:00:09\n",
      "   ----------- ---------------------------- 13.1/44.5 MB 4.0 MB/s eta 0:00:08\n",
      "   ------------ --------------------------- 13.9/44.5 MB 4.0 MB/s eta 0:00:08\n",
      "   ------------- -------------------------- 14.7/44.5 MB 4.0 MB/s eta 0:00:08\n",
      "   -------------- ------------------------- 15.7/44.5 MB 4.0 MB/s eta 0:00:08\n",
      "   -------------- ------------------------- 16.5/44.5 MB 4.0 MB/s eta 0:00:08\n",
      "   --------------- ------------------------ 17.3/44.5 MB 4.0 MB/s eta 0:00:07\n",
      "   ---------------- ----------------------- 18.1/44.5 MB 4.0 MB/s eta 0:00:07\n",
      "   ----------------- ---------------------- 19.1/44.5 MB 4.0 MB/s eta 0:00:07\n",
      "   ------------------ --------------------- 20.2/44.5 MB 4.0 MB/s eta 0:00:07\n",
      "   ------------------ --------------------- 21.0/44.5 MB 4.0 MB/s eta 0:00:06\n",
      "   ------------------- -------------------- 21.8/44.5 MB 4.1 MB/s eta 0:00:06\n",
      "   -------------------- ------------------- 22.8/44.5 MB 4.0 MB/s eta 0:00:06\n",
      "   --------------------- ------------------ 23.6/44.5 MB 4.1 MB/s eta 0:00:06\n",
      "   ---------------------- ----------------- 24.6/44.5 MB 4.1 MB/s eta 0:00:05\n",
      "   ----------------------- ---------------- 25.7/44.5 MB 4.1 MB/s eta 0:00:05\n",
      "   ----------------------- ---------------- 26.5/44.5 MB 4.1 MB/s eta 0:00:05\n",
      "   ------------------------ --------------- 27.5/44.5 MB 4.1 MB/s eta 0:00:05\n",
      "   ------------------------- -------------- 28.6/44.5 MB 4.2 MB/s eta 0:00:04\n",
      "   -------------------------- ------------- 29.6/44.5 MB 4.2 MB/s eta 0:00:04\n",
      "   --------------------------- ------------ 30.4/44.5 MB 4.2 MB/s eta 0:00:04\n",
      "   ---------------------------- ----------- 31.5/44.5 MB 4.2 MB/s eta 0:00:04\n",
      "   ---------------------------- ----------- 32.2/44.5 MB 4.2 MB/s eta 0:00:03\n",
      "   ----------------------------- ---------- 33.3/44.5 MB 4.2 MB/s eta 0:00:03\n",
      "   ------------------------------ --------- 34.1/44.5 MB 4.2 MB/s eta 0:00:03\n",
      "   ------------------------------- -------- 34.9/44.5 MB 4.2 MB/s eta 0:00:03\n",
      "   -------------------------------- ------- 35.7/44.5 MB 4.2 MB/s eta 0:00:03\n",
      "   -------------------------------- ------- 36.7/44.5 MB 4.2 MB/s eta 0:00:02\n",
      "   --------------------------------- ------ 37.5/44.5 MB 4.2 MB/s eta 0:00:02\n",
      "   ---------------------------------- ----- 38.5/44.5 MB 4.2 MB/s eta 0:00:02\n",
      "   ----------------------------------- ---- 39.3/44.5 MB 4.2 MB/s eta 0:00:02\n",
      "   ------------------------------------ --- 40.4/44.5 MB 4.2 MB/s eta 0:00:01\n",
      "   ------------------------------------ --- 41.2/44.5 MB 4.2 MB/s eta 0:00:01\n",
      "   ------------------------------------- -- 41.9/44.5 MB 4.2 MB/s eta 0:00:01\n",
      "   -------------------------------------- - 43.0/44.5 MB 4.2 MB/s eta 0:00:01\n",
      "   ---------------------------------------  43.8/44.5 MB 4.2 MB/s eta 0:00:01\n",
      "   ---------------------------------------  44.3/44.5 MB 4.2 MB/s eta 0:00:01\n",
      "   ---------------------------------------- 44.5/44.5 MB 4.1 MB/s eta 0:00:00\n",
      "Installing collected packages: SciPy\n",
      "Successfully installed SciPy-1.14.1\n",
      "Note: you may need to restart the kernel to use updated packages.\n"
     ]
    }
   ],
   "source": [
    "pip install SciPy"
   ]
  },
  {
   "cell_type": "code",
   "execution_count": 4,
   "id": "12f6a77c-16d0-4861-82e7-93a5996ce175",
   "metadata": {},
   "outputs": [
    {
     "name": "stdout",
     "output_type": "stream",
     "text": [
      "Collecting Pandas\n",
      "  Downloading pandas-2.2.3-cp312-cp312-win_amd64.whl.metadata (19 kB)\n",
      "Requirement already satisfied: numpy>=1.26.0 in c:\\users\\w10\\appdata\\local\\programs\\python\\python312\\lib\\site-packages (from Pandas) (2.1.2)\n",
      "Requirement already satisfied: python-dateutil>=2.8.2 in c:\\users\\w10\\appdata\\local\\programs\\python\\python312\\lib\\site-packages (from Pandas) (2.9.0.post0)\n",
      "Collecting pytz>=2020.1 (from Pandas)\n",
      "  Downloading pytz-2024.2-py2.py3-none-any.whl.metadata (22 kB)\n",
      "Collecting tzdata>=2022.7 (from Pandas)\n",
      "  Downloading tzdata-2024.2-py2.py3-none-any.whl.metadata (1.4 kB)\n",
      "Requirement already satisfied: six>=1.5 in c:\\users\\w10\\appdata\\local\\programs\\python\\python312\\lib\\site-packages (from python-dateutil>=2.8.2->Pandas) (1.16.0)\n",
      "Downloading pandas-2.2.3-cp312-cp312-win_amd64.whl (11.5 MB)\n",
      "   ---------------------------------------- 0.0/11.5 MB ? eta -:--:--\n",
      "   -- ------------------------------------- 0.8/11.5 MB 4.8 MB/s eta 0:00:03\n",
      "   ------ --------------------------------- 1.8/11.5 MB 5.0 MB/s eta 0:00:02\n",
      "   ---------- ----------------------------- 2.9/11.5 MB 4.9 MB/s eta 0:00:02\n",
      "   ------------- -------------------------- 3.9/11.5 MB 4.9 MB/s eta 0:00:02\n",
      "   ----------------- ---------------------- 5.0/11.5 MB 4.8 MB/s eta 0:00:02\n",
      "   -------------------- ------------------- 5.8/11.5 MB 4.8 MB/s eta 0:00:02\n",
      "   ----------------------- ---------------- 6.8/11.5 MB 4.7 MB/s eta 0:00:01\n",
      "   -------------------------- ------------- 7.6/11.5 MB 4.7 MB/s eta 0:00:01\n",
      "   ------------------------------ --------- 8.7/11.5 MB 4.7 MB/s eta 0:00:01\n",
      "   --------------------------------- ------ 9.7/11.5 MB 4.7 MB/s eta 0:00:01\n",
      "   ------------------------------------ --- 10.5/11.5 MB 4.7 MB/s eta 0:00:01\n",
      "   ---------------------------------------  11.3/11.5 MB 4.7 MB/s eta 0:00:01\n",
      "   ---------------------------------------- 11.5/11.5 MB 4.3 MB/s eta 0:00:00\n",
      "Downloading pytz-2024.2-py2.py3-none-any.whl (508 kB)\n",
      "Downloading tzdata-2024.2-py2.py3-none-any.whl (346 kB)\n",
      "Installing collected packages: pytz, tzdata, Pandas\n",
      "Successfully installed Pandas-2.2.3 pytz-2024.2 tzdata-2024.2\n",
      "Note: you may need to restart the kernel to use updated packages.\n"
     ]
    }
   ],
   "source": [
    "pip install Pandas"
   ]
  },
  {
   "cell_type": "code",
   "execution_count": 5,
   "id": "d078a3c9-271e-4972-ae1b-ceddeec9a97d",
   "metadata": {},
   "outputs": [
    {
     "name": "stdout",
     "output_type": "stream",
     "text": [
      "Collecting Matplotlib\n",
      "  Downloading matplotlib-3.9.2-cp312-cp312-win_amd64.whl.metadata (11 kB)\n",
      "Collecting contourpy>=1.0.1 (from Matplotlib)\n",
      "  Downloading contourpy-1.3.0-cp312-cp312-win_amd64.whl.metadata (5.4 kB)\n",
      "Collecting cycler>=0.10 (from Matplotlib)\n",
      "  Downloading cycler-0.12.1-py3-none-any.whl.metadata (3.8 kB)\n",
      "Collecting fonttools>=4.22.0 (from Matplotlib)\n",
      "  Downloading fonttools-4.54.1-cp312-cp312-win_amd64.whl.metadata (167 kB)\n",
      "Collecting kiwisolver>=1.3.1 (from Matplotlib)\n",
      "  Downloading kiwisolver-1.4.7-cp312-cp312-win_amd64.whl.metadata (6.4 kB)\n",
      "Requirement already satisfied: numpy>=1.23 in c:\\users\\w10\\appdata\\local\\programs\\python\\python312\\lib\\site-packages (from Matplotlib) (2.1.2)\n",
      "Requirement already satisfied: packaging>=20.0 in c:\\users\\w10\\appdata\\local\\programs\\python\\python312\\lib\\site-packages (from Matplotlib) (24.1)\n",
      "Collecting pillow>=8 (from Matplotlib)\n",
      "  Downloading pillow-11.0.0-cp312-cp312-win_amd64.whl.metadata (9.3 kB)\n",
      "Collecting pyparsing>=2.3.1 (from Matplotlib)\n",
      "  Downloading pyparsing-3.2.0-py3-none-any.whl.metadata (5.0 kB)\n",
      "Requirement already satisfied: python-dateutil>=2.7 in c:\\users\\w10\\appdata\\local\\programs\\python\\python312\\lib\\site-packages (from Matplotlib) (2.9.0.post0)\n",
      "Requirement already satisfied: six>=1.5 in c:\\users\\w10\\appdata\\local\\programs\\python\\python312\\lib\\site-packages (from python-dateutil>=2.7->Matplotlib) (1.16.0)\n",
      "Downloading matplotlib-3.9.2-cp312-cp312-win_amd64.whl (7.8 MB)\n",
      "   ---------------------------------------- 0.0/7.8 MB ? eta -:--:--\n",
      "   ---- ----------------------------------- 0.8/7.8 MB 4.2 MB/s eta 0:00:02\n",
      "   ---------- ----------------------------- 2.1/7.8 MB 5.3 MB/s eta 0:00:02\n",
      "   ---------------- ----------------------- 3.1/7.8 MB 5.0 MB/s eta 0:00:01\n",
      "   -------------------- ------------------- 3.9/7.8 MB 5.0 MB/s eta 0:00:01\n",
      "   -------------------------- ------------- 5.2/7.8 MB 5.1 MB/s eta 0:00:01\n",
      "   -------------------------------- ------- 6.3/7.8 MB 5.1 MB/s eta 0:00:01\n",
      "   ------------------------------------- -- 7.3/7.8 MB 5.0 MB/s eta 0:00:01\n",
      "   ---------------------------------------- 7.8/7.8 MB 4.7 MB/s eta 0:00:00\n",
      "Downloading contourpy-1.3.0-cp312-cp312-win_amd64.whl (218 kB)\n",
      "Downloading cycler-0.12.1-py3-none-any.whl (8.3 kB)\n",
      "Downloading fonttools-4.54.1-cp312-cp312-win_amd64.whl (2.2 MB)\n",
      "   ---------------------------------------- 0.0/2.2 MB ? eta -:--:--\n",
      "   -------------- ------------------------- 0.8/2.2 MB 5.6 MB/s eta 0:00:01\n",
      "   -------------------------------------- - 2.1/2.2 MB 5.1 MB/s eta 0:00:01\n",
      "   ---------------------------------------- 2.2/2.2 MB 4.8 MB/s eta 0:00:00\n",
      "Downloading kiwisolver-1.4.7-cp312-cp312-win_amd64.whl (55 kB)\n",
      "Downloading pillow-11.0.0-cp312-cp312-win_amd64.whl (2.6 MB)\n",
      "   ---------------------------------------- 0.0/2.6 MB ? eta -:--:--\n",
      "   ---------------- ----------------------- 1.0/2.6 MB 5.0 MB/s eta 0:00:01\n",
      "   -------------------------------- ------- 2.1/2.6 MB 4.9 MB/s eta 0:00:01\n",
      "   ------------------------------------ --- 2.4/2.6 MB 4.8 MB/s eta 0:00:01\n",
      "   ---------------------------------------- 2.6/2.6 MB 3.7 MB/s eta 0:00:00\n",
      "Downloading pyparsing-3.2.0-py3-none-any.whl (106 kB)\n",
      "Installing collected packages: pyparsing, pillow, kiwisolver, fonttools, cycler, contourpy, Matplotlib\n",
      "Successfully installed Matplotlib-3.9.2 contourpy-1.3.0 cycler-0.12.1 fonttools-4.54.1 kiwisolver-1.4.7 pillow-11.0.0 pyparsing-3.2.0\n",
      "Note: you may need to restart the kernel to use updated packages.\n"
     ]
    }
   ],
   "source": [
    "pip install Matplotlib"
   ]
  },
  {
   "cell_type": "code",
   "execution_count": 6,
   "id": "7403151a-b1eb-41bb-b42a-d9adb0d03234",
   "metadata": {},
   "outputs": [
    {
     "name": "stdout",
     "output_type": "stream",
     "text": [
      "Collecting Seaborn\n",
      "  Downloading seaborn-0.13.2-py3-none-any.whl.metadata (5.4 kB)\n",
      "Requirement already satisfied: numpy!=1.24.0,>=1.20 in c:\\users\\w10\\appdata\\local\\programs\\python\\python312\\lib\\site-packages (from Seaborn) (2.1.2)\n",
      "Requirement already satisfied: pandas>=1.2 in c:\\users\\w10\\appdata\\local\\programs\\python\\python312\\lib\\site-packages (from Seaborn) (2.2.3)\n",
      "Requirement already satisfied: matplotlib!=3.6.1,>=3.4 in c:\\users\\w10\\appdata\\local\\programs\\python\\python312\\lib\\site-packages (from Seaborn) (3.9.2)\n",
      "Requirement already satisfied: contourpy>=1.0.1 in c:\\users\\w10\\appdata\\local\\programs\\python\\python312\\lib\\site-packages (from matplotlib!=3.6.1,>=3.4->Seaborn) (1.3.0)\n",
      "Requirement already satisfied: cycler>=0.10 in c:\\users\\w10\\appdata\\local\\programs\\python\\python312\\lib\\site-packages (from matplotlib!=3.6.1,>=3.4->Seaborn) (0.12.1)\n",
      "Requirement already satisfied: fonttools>=4.22.0 in c:\\users\\w10\\appdata\\local\\programs\\python\\python312\\lib\\site-packages (from matplotlib!=3.6.1,>=3.4->Seaborn) (4.54.1)\n",
      "Requirement already satisfied: kiwisolver>=1.3.1 in c:\\users\\w10\\appdata\\local\\programs\\python\\python312\\lib\\site-packages (from matplotlib!=3.6.1,>=3.4->Seaborn) (1.4.7)\n",
      "Requirement already satisfied: packaging>=20.0 in c:\\users\\w10\\appdata\\local\\programs\\python\\python312\\lib\\site-packages (from matplotlib!=3.6.1,>=3.4->Seaborn) (24.1)\n",
      "Requirement already satisfied: pillow>=8 in c:\\users\\w10\\appdata\\local\\programs\\python\\python312\\lib\\site-packages (from matplotlib!=3.6.1,>=3.4->Seaborn) (11.0.0)\n",
      "Requirement already satisfied: pyparsing>=2.3.1 in c:\\users\\w10\\appdata\\local\\programs\\python\\python312\\lib\\site-packages (from matplotlib!=3.6.1,>=3.4->Seaborn) (3.2.0)\n",
      "Requirement already satisfied: python-dateutil>=2.7 in c:\\users\\w10\\appdata\\local\\programs\\python\\python312\\lib\\site-packages (from matplotlib!=3.6.1,>=3.4->Seaborn) (2.9.0.post0)\n",
      "Requirement already satisfied: pytz>=2020.1 in c:\\users\\w10\\appdata\\local\\programs\\python\\python312\\lib\\site-packages (from pandas>=1.2->Seaborn) (2024.2)\n",
      "Requirement already satisfied: tzdata>=2022.7 in c:\\users\\w10\\appdata\\local\\programs\\python\\python312\\lib\\site-packages (from pandas>=1.2->Seaborn) (2024.2)\n",
      "Requirement already satisfied: six>=1.5 in c:\\users\\w10\\appdata\\local\\programs\\python\\python312\\lib\\site-packages (from python-dateutil>=2.7->matplotlib!=3.6.1,>=3.4->Seaborn) (1.16.0)\n",
      "Downloading seaborn-0.13.2-py3-none-any.whl (294 kB)\n",
      "Installing collected packages: Seaborn\n",
      "Successfully installed Seaborn-0.13.2\n",
      "Note: you may need to restart the kernel to use updated packages.\n"
     ]
    }
   ],
   "source": [
    "pip install Seaborn"
   ]
  },
  {
   "cell_type": "code",
   "execution_count": 7,
   "id": "063fd6d8-484a-414b-9c38-fd86811ee697",
   "metadata": {},
   "outputs": [
    {
     "name": "stdout",
     "output_type": "stream",
     "text": [
      "Collecting Scikit-Learn\n",
      "  Downloading scikit_learn-1.5.2-cp312-cp312-win_amd64.whl.metadata (13 kB)\n",
      "Requirement already satisfied: numpy>=1.19.5 in c:\\users\\w10\\appdata\\local\\programs\\python\\python312\\lib\\site-packages (from Scikit-Learn) (2.1.2)\n",
      "Requirement already satisfied: scipy>=1.6.0 in c:\\users\\w10\\appdata\\local\\programs\\python\\python312\\lib\\site-packages (from Scikit-Learn) (1.14.1)\n",
      "Collecting joblib>=1.2.0 (from Scikit-Learn)\n",
      "  Downloading joblib-1.4.2-py3-none-any.whl.metadata (5.4 kB)\n",
      "Collecting threadpoolctl>=3.1.0 (from Scikit-Learn)\n",
      "  Downloading threadpoolctl-3.5.0-py3-none-any.whl.metadata (13 kB)\n",
      "Downloading scikit_learn-1.5.2-cp312-cp312-win_amd64.whl (11.0 MB)\n",
      "   ---------------------------------------- 0.0/11.0 MB ? eta -:--:--\n",
      "    --------------------------------------- 0.3/11.0 MB ? eta -:--:--\n",
      "   --- ------------------------------------ 1.0/11.0 MB 3.0 MB/s eta 0:00:04\n",
      "   ----- ---------------------------------- 1.6/11.0 MB 2.9 MB/s eta 0:00:04\n",
      "   ------- -------------------------------- 2.1/11.0 MB 2.8 MB/s eta 0:00:04\n",
      "   --------- ------------------------------ 2.6/11.0 MB 2.8 MB/s eta 0:00:03\n",
      "   ----------- ---------------------------- 3.1/11.0 MB 2.7 MB/s eta 0:00:03\n",
      "   ------------- -------------------------- 3.7/11.0 MB 2.7 MB/s eta 0:00:03\n",
      "   --------------- ------------------------ 4.2/11.0 MB 2.6 MB/s eta 0:00:03\n",
      "   ----------------- ---------------------- 4.7/11.0 MB 2.6 MB/s eta 0:00:03\n",
      "   ------------------- -------------------- 5.2/11.0 MB 2.6 MB/s eta 0:00:03\n",
      "   -------------------- ------------------- 5.5/11.0 MB 2.6 MB/s eta 0:00:03\n",
      "   -------------------- ------------------- 5.8/11.0 MB 2.5 MB/s eta 0:00:03\n",
      "   -------------------- ------------------- 5.8/11.0 MB 2.5 MB/s eta 0:00:03\n",
      "   -------------------- ------------------- 5.8/11.0 MB 2.5 MB/s eta 0:00:03\n",
      "   ----------------------- ---------------- 6.6/11.0 MB 2.2 MB/s eta 0:00:03\n",
      "   ------------------------- -------------- 7.1/11.0 MB 2.2 MB/s eta 0:00:02\n",
      "   --------------------------- ------------ 7.6/11.0 MB 2.2 MB/s eta 0:00:02\n",
      "   ------------------------------ --------- 8.4/11.0 MB 2.2 MB/s eta 0:00:02\n",
      "   -------------------------------- ------- 8.9/11.0 MB 2.3 MB/s eta 0:00:01\n",
      "   ---------------------------------- ----- 9.4/11.0 MB 2.2 MB/s eta 0:00:01\n",
      "   ------------------------------------ --- 10.0/11.0 MB 2.3 MB/s eta 0:00:01\n",
      "   ------------------------------------- -- 10.2/11.0 MB 2.3 MB/s eta 0:00:01\n",
      "   ---------------------------------------  10.7/11.0 MB 2.3 MB/s eta 0:00:01\n",
      "   ---------------------------------------- 11.0/11.0 MB 2.2 MB/s eta 0:00:00\n",
      "Downloading joblib-1.4.2-py3-none-any.whl (301 kB)\n",
      "Downloading threadpoolctl-3.5.0-py3-none-any.whl (18 kB)\n",
      "Installing collected packages: threadpoolctl, joblib, Scikit-Learn\n",
      "Successfully installed Scikit-Learn-1.5.2 joblib-1.4.2 threadpoolctl-3.5.0\n",
      "Note: you may need to restart the kernel to use updated packages.\n"
     ]
    }
   ],
   "source": [
    "pip install Scikit-Learn"
   ]
  },
  {
   "cell_type": "code",
   "execution_count": null,
   "id": "98a39e7e-7496-41d9-a17c-f3585296a524",
   "metadata": {},
   "outputs": [],
   "source": []
  }
 ],
 "metadata": {
  "kernelspec": {
   "display_name": "Python 3 (ipykernel)",
   "language": "python",
   "name": "python3"
  },
  "language_info": {
   "codemirror_mode": {
    "name": "ipython",
    "version": 3
   },
   "file_extension": ".py",
   "mimetype": "text/x-python",
   "name": "python",
   "nbconvert_exporter": "python",
   "pygments_lexer": "ipython3",
   "version": "3.12.7"
  }
 },
 "nbformat": 4,
 "nbformat_minor": 5
}
